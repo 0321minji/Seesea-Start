{
  "nbformat": 4,
  "nbformat_minor": 0,
  "metadata": {
    "colab": {
      "provenance": [],
      "authorship_tag": "ABX9TyO6cI7ZajKYm+pY+eZLyDSH",
      "include_colab_link": true
    },
    "kernelspec": {
      "name": "python3",
      "display_name": "Python 3"
    },
    "language_info": {
      "name": "python"
    },
    "accelerator": "GPU",
    "gpuClass": "standard"
  },
  "cells": [
    {
      "cell_type": "markdown",
      "metadata": {
        "id": "view-in-github",
        "colab_type": "text"
      },
      "source": [
        "<a href=\"https://colab.research.google.com/github/Ahpuh-Ahpuh/Seesea-Start/blob/main/%EC%A1%B8%EC%97%85%ED%94%84%EB%A1%9C%EC%A0%9D%ED%8A%B8.ipynb\" target=\"_parent\"><img src=\"https://colab.research.google.com/assets/colab-badge.svg\" alt=\"Open In Colab\"/></a>"
      ]
    },
    {
      "cell_type": "code",
      "execution_count": 1,
      "metadata": {
        "colab": {
          "base_uri": "https://localhost:8080/"
        },
        "id": "0NPi6MxP-igl",
        "outputId": "82c7baf1-b4ed-4612-f992-951f993a1ef9"
      },
      "outputs": [
        {
          "output_type": "stream",
          "name": "stdout",
          "text": [
            "Cloning into 'yolov5'...\n",
            "remote: Enumerating objects: 14432, done.\u001b[K\n",
            "remote: Counting objects: 100% (61/61), done.\u001b[K\n",
            "remote: Compressing objects: 100% (40/40), done.\u001b[K\n",
            "remote: Total 14432 (delta 35), reused 38 (delta 20), pack-reused 14371\u001b[K\n",
            "Receiving objects: 100% (14432/14432), 13.57 MiB | 10.41 MiB/s, done.\n",
            "Resolving deltas: 100% (9936/9936), done.\n"
          ]
        }
      ],
      "source": [
        "!git clone https://github.com/ultralytics/yolov5.git"
      ]
    },
    {
      "cell_type": "code",
      "source": [
        "!curl -L \"https://universe.roboflow.com/ds/3432WcBUcs?key=z7jrJmg4ZO\" > roboflow.zip; unzip roboflow.zip; rm roboflow.zip"
      ],
      "metadata": {
        "id": "jIOzGdB_jNqk"
      },
      "execution_count": null,
      "outputs": []
    },
    {
      "cell_type": "code",
      "source": [
        "from glob import glob\n",
        "img_list = glob('/content/train/images/*.jpg')\n",
        "val_img_list = glob('/content/test/images/*.jpg')\n"
      ],
      "metadata": {
        "id": "75pNvMLkOpf6"
      },
      "execution_count": 3,
      "outputs": []
    },
    {
      "cell_type": "code",
      "source": [
        "print(img_list)\n",
        "print(val_img_list)"
      ],
      "metadata": {
        "colab": {
          "base_uri": "https://localhost:8080/"
        },
        "id": "pT9CbvlrPTj5",
        "outputId": "4f8633e8-ec47-459d-939c-ccde688a7215"
      },
      "execution_count": 4,
      "outputs": [
        {
          "output_type": "stream",
          "name": "stdout",
          "text": [
            "['/content/train/images/53feaf75ccc0ec70a1e16ca831fa6b31--drown-sinks_jpg.rf.04ea6db87b024f07a2b5e57a3ffe2d85.jpg', '/content/train/images/drowning47_mp4-11_jpg.rf.634dac96ba956a68cd3a426128206b29.jpg', '/content/train/images/drowning1_mp4-17_jpg.rf.23749c38b69c423971d3f6d8b83b48f2.jpg', '/content/train/images/93531112-man-drowning-in-out-door-swimming-pool-while-swimming-alone-show-two-hands-and-asking-for-help_jpg.rf.e642d0e5a2a4b289daca0d57e8ce82cc.jpg', '/content/train/images/drowning47_mp4-11_jpg.rf.2c089d94e3297e7c97df0f94a3aff608.jpg', '/content/train/images/drowning1_mp4-18_jpg.rf.725c196174b78c5fed2bb3598882e1a1.jpg', '/content/train/images/Drowning-person_jpg.rf.a646cde2692d2b8696930f5a2dd30a56.jpg', '/content/train/images/drowning47_mp4-7_jpg.rf.d38521a00563a67291b06c748b6ef832.jpg', '/content/train/images/drowning2_1559613029952_90596921_ver1-0_jpg.rf.7dfd37e4572d2a4401c3d48e788d1a04.jpg', '/content/train/images/drowning1_mp4-33_jpg.rf.05c6bc6934959b0d2e41ac9306f5ebe5.jpg', '/content/train/images/Z_png.rf.5d6c62e12574f669424b8a4d674ff657.jpg', '/content/train/images/drowning1_mp4-19_jpg.rf.15e938a43ff1a79362e152674c05b179.jpg', '/content/train/images/drowning1_mp4-17_jpg.rf.1134474cafb5e314fec1f7f7017c836d.jpg', '/content/train/images/drowning1_mp4-20_jpg.rf.7953c0c3ee7f558015b020d30bd23ba9.jpg', '/content/train/images/drowning20_mp4-17_jpg.rf.ae7151f594366f19f2132867ba74d30b.jpg', '/content/train/images/Man-Being-Pulled-from-Water-before-Drowning-1024x683_jpg.rf.169673eaf6fd7bcaad10fcd8641c6431.jpg', '/content/train/images/drowning1_mp4-14_jpg.rf.4a2a8af4fd9207bea5c4c3433b44f8d8.jpg', '/content/train/images/drowning_small-1-1000x573_jpg.rf.49e88978d814e138afe300dbebadfc1a.jpg', '/content/train/images/drowning47_mp4-10_jpg.rf.31d87bc7b6efe5a87ca554d1ed389832.jpg', '/content/train/images/drowning2_1559613029952_90596921_ver1-0_jpg.rf.1d7375c7beb66255ecc697621058c985.jpg', '/content/train/images/drowning1_mp4-16_jpg.rf.ed4a3f9f3fd073b9c2a2e228383570be.jpg', '/content/train/images/images--3-_jpeg.rf.9a19d32235d6cbecc8b0053c3b77bafa.jpg', '/content/train/images/drowning1_mp4-31_jpg.rf.eecd718bd7b40d0e33ea57db4e4be644.jpg', '/content/train/images/drowning1_mp4-36_jpg.rf.6319daa79006f87e23444475f5d80644.jpg', '/content/train/images/drowning1_mp4-37_jpg.rf.9e1442015f4f4bc5f3747f6443cd82c9.jpg', '/content/train/images/drowning1_mp4-15_jpg.rf.bf31aa0efea42f223a1ceb69624d53ab.jpg', '/content/train/images/drowning1_mp4-11_jpg.rf.c588ccb0471761292f73c7df999e2916.jpg', '/content/train/images/drowning1_mp4-35_jpg.rf.7f81d12bd49c9450525732ea87b06296.jpg', '/content/train/images/drowning2_1559613029952_90596921_ver1_png.rf.5e56e6788400af1dcb220603bc94de10.jpg', '/content/train/images/drowning47_mp4-12_jpg.rf.51b2370ea8df32de79e55e1da332ab23.jpg', '/content/train/images/drowning1_mp4-19_jpg.rf.117dceeb6decfffb1886b011c62b8a23.jpg', '/content/train/images/drowning2_1559613029952_90596921_ver1_png.rf.5d243ebc114aaa711a475191e4b8e1e7.jpg', '/content/train/images/drowning47_mp4-10_jpg.rf.91b47d36fb7346fc8714f0b28bc10b03.jpg', '/content/train/images/drowning1_mp4-12_jpg.rf.33e3a592a97fbd3729a6a84088762b72.jpg', '/content/train/images/drowning47_mp4-3_jpg.rf.55794278f66734bbe4a4be97b1bc8010.jpg', '/content/train/images/318351193_jpg.rf.001474c47443ef7df5eb572289d4eb35.jpg', '/content/train/images/drowning1_mp4-25_jpg.rf.23c8816ca8ee80638b1891e235f73ad4.jpg', '/content/train/images/drowning1_mp4-10_jpg.rf.b1eba61831b7093989bcae3454bb5462.jpg', '/content/train/images/drowning47_mp4-10_jpg.rf.e125e1e4d1cf5c863322fc30a490f585.jpg', '/content/train/images/drowning1_mp4-17_jpg.rf.a996d53fb7c7b36d33e21b625139c4dc.jpg', '/content/train/images/drowning20_mp4-10_jpg.rf.7219b786b0c535a5fff613727179fd48.jpg', '/content/train/images/drowning1_mp4-19_jpg.rf.dfb5ffa1f5150b942c6e82b9cabf8643.jpg', '/content/train/images/drowning1_mp4-28_jpg.rf.e279cadbddd7c0c887b8aff370eaf9db.jpg', '/content/train/images/drowning1_mp4-34_jpg.rf.39869f297dc7a7d358b9819c5d291afe.jpg', '/content/train/images/drowning1_mp4-10_jpg.rf.25990337d212fb4487b0b26d595e2330.jpg', '/content/train/images/drowning_small-1-1000x573_jpg.rf.0e4175f09f0f222234754d97e9c95972.jpg', '/content/train/images/Drowning-person_jpg.rf.699a258404bdaf0599117ee1d356153d.jpg', '/content/train/images/drowning1_mp4-35_jpg.rf.bc0ee30893d186b843c7f27e985b9456.jpg', '/content/train/images/134653437-asian-senior-people-struggling-underwater-hand-peeking-out-of-the-water-female-drowned-in-swimming-p_jpg.rf.8fc1f920051f2537104d166e411291e5.jpg', '/content/train/images/drowning2_jpg.rf.b89226986ce1f82c8e866039de927f77.jpg', '/content/train/images/drowning1_mp4-13_jpg.rf.ef8f8f736e164ff5c0cd504f66e358dc.jpg', '/content/train/images/drowning47_mp4-5_jpg.rf.48bc2836e0248a5aa73098c0cbb8db2c.jpg', '/content/train/images/istockphoto-1041463788-612x612_jpg.rf.35352c3aa963237c22b1d48d3ba9f8eb.jpg', '/content/train/images/drowning1_mp4-32_jpg.rf.e9ebd52e6d7a6ca259fc10fa43db4838.jpg', '/content/train/images/drowning47_mp4-9_jpg.rf.3205af8b254acb83087dcf51c9df8c2c.jpg', '/content/train/images/images--6-_jpeg.rf.690145a7d654df650883d0a8ebb01ad8.jpg', '/content/train/images/drowning1_mp4-26_jpg.rf.9009a565f7e8faee84e7cee43dbe3688.jpg', '/content/train/images/drowning1_mp4-24_jpg.rf.1ddb17680899cd9de58e72db74f8a41f.jpg', '/content/train/images/images--3-_jpeg.rf.c2f737fc3c5d19a7a2bc6c2437806e0f.jpg', '/content/train/images/images--6-_jpeg.rf.1a6dce41d1ccd84dd710d684aafe5b39.jpg', '/content/train/images/drowning1_mp4-22_jpg.rf.eda087486058ac7046b0db907a8faf0f.jpg', '/content/train/images/318351193_jpg.rf.8ccbe59b92bd7123ecfce0463904936b.jpg', '/content/train/images/unnamed_png.rf.e537213dd4d5c7c4924e31587f51a047.jpg', '/content/train/images/drowning1_mp4-12_jpg.rf.30595dc97ff6bfb8f0b71ffc65cd7be8.jpg', '/content/train/images/drowning1_mp4-32_jpg.rf.4c0f87193ae0002f75e6adf70deef187.jpg', '/content/train/images/drowning47_mp4-7_jpg.rf.c29fad0344f75be32456fc5ba87bfbfe.jpg', '/content/train/images/drowning20_mp4-19_jpg.rf.434c47ca986b09a445759101a78d1181.jpg', '/content/train/images/53feaf75ccc0ec70a1e16ca831fa6b31--drown-sinks_jpg.rf.b354d9818ed2030f60e80acb24a95773.jpg', '/content/train/images/drowning20_mp4-19_jpg.rf.2850761ddb2ecb97ae40fee13d661194.jpg', '/content/train/images/drowning47_mp4-14_jpg.rf.b4e21a9d21c72ddf19cb3a314a52cf49.jpg', '/content/train/images/drowning1_mp4-37_jpg.rf.70f65a673dcccb53db96969db1a44946.jpg', '/content/train/images/318351193_jpg.rf.99c1cb8f0250cb5420c9ce0a1ced2ecd.jpg', '/content/train/images/drowning1_mp4-13_jpg.rf.aaa926c8f673e17e3c70225c32500ae5.jpg', '/content/train/images/drowning1_mp4-35_jpg.rf.530607fc64d3f25d9f90bede1618086a.jpg', '/content/train/images/drowning47_mp4-1_jpg.rf.6612d090b4f434802dd78395462a0628.jpg', '/content/train/images/drowning20_mp4-11_jpg.rf.e590fa82eca7530326a330fb8d8c336a.jpg', '/content/train/images/drowning1_mp4-0_jpg.rf.8744f02573cb0a13a58aa1ac3dac8ea6.jpg', '/content/train/images/drowning1_mp4-14_jpg.rf.a7cf0bc9696fddb61a8f093e03ad9337.jpg', '/content/train/images/drowning47_mp4-12_jpg.rf.b179d37bb3b422c8ac8a398eecca315c.jpg', '/content/train/images/drowning1_mp4-25_jpg.rf.5530d70b5c243ea1aa9c89d23be619be.jpg', '/content/train/images/drowning20_mp4-20_jpg.rf.3890504fa3f4fb89bb3cabddb5b86f19.jpg', '/content/train/images/drowning1_mp4-34_jpg.rf.f580caa39d16a1358f34a7b9370a2219.jpg', '/content/train/images/drowning1_mp4-33_jpg.rf.5a3aa2baba4bfbe98905494d39f665c3.jpg', '/content/train/images/drowning1_mp4-31_jpg.rf.a6aa1b4d5058c594ba22565ddfdc8343.jpg', '/content/train/images/drowning1_mp4-29_jpg.rf.6519fbd5c5464f88c5edc4ca59e9d560.jpg', '/content/train/images/Z_png.rf.59252076562fc8ef386a829630d741a4.jpg', '/content/train/images/drowning1_mp4-27_jpg.rf.0140b0eb46a230b133f1e40cdefefbc6.jpg', '/content/train/images/drowning1_mp4-15_jpg.rf.4c6a2d21b481c818100c52f7e9573841.jpg', '/content/train/images/drowning1_mp4-36_jpg.rf.6896577bcf14dac52be05b4717598e1e.jpg', '/content/train/images/drowning1_mp4-27_jpg.rf.4cb149dba063aea0334963a7c67bd3d5.jpg', '/content/train/images/drowning1_mp4-14_jpg.rf.cb85e116f2d3bace6ad8f28d1785877b.jpg', '/content/train/images/drowning20_mp4-20_jpg.rf.359edef5091664071aea8e2e81664a22.jpg', '/content/train/images/drowning47_mp4-12_jpg.rf.155a970a99a6ee43a18ca47e1d6d0f02.jpg', '/content/train/images/drowning1_mp4-37_jpg.rf.c0934150adcd0894eecece3e99dfd090.jpg', '/content/train/images/drowning47_mp4-7_jpg.rf.1619ca4cf26fb9900eaf39763fa4a478.jpg', '/content/train/images/drowning1_mp4-30_jpg.rf.1e1b5874e98858534a7870f65f6ff1bd.jpg', '/content/train/images/drowning47_mp4-8_jpg.rf.6e4bfbbbe730bff036a982a3dfa61b03.jpg', '/content/train/images/drowning1_mp4-30_jpg.rf.968db4338c52e218eb8cd0cbf85373e2.jpg', '/content/train/images/drowning47_mp4-8_jpg.rf.c084bb823a4b8345d524916b454c0f5c.jpg', '/content/train/images/drowning47_mp4-14_jpg.rf.ce36a17074e386351a21ed8062b21a62.jpg', '/content/train/images/drowning1_mp4-23_jpg.rf.c045bce1476e27e0cefc049a82f19814.jpg', '/content/train/images/drowning47_mp4-11_jpg.rf.c8369f55ef3b2eb5c120b057c9d6cca8.jpg', '/content/train/images/drowning20_mp4-8_jpg.rf.a3d24287082fc2e43615b1b63751976c.jpg', '/content/train/images/203512036--1-_jpg.rf.12b6a3c63aae853390cc7a04ae796fd4.jpg', '/content/train/images/drowning1_mp4-28_jpg.rf.b92621e75ac576373ff711b1bee88d42.jpg', '/content/train/images/drowning47_mp4-14_jpg.rf.12f115900e6aa086be422102f7a0b02f.jpg', '/content/train/images/istockphoto-105764867-612x612_jpg.rf.252d1f982fe7687900a76724eb4c9d31.jpg', '/content/train/images/drowning1_mp4-29_jpg.rf.ca8a8bf3be1a093db296cac2eeebc802.jpg', '/content/train/images/drowning1_mp4-10_jpg.rf.d100b8ff929437270fdde541dafc0d9f.jpg', '/content/train/images/134653437-asian-senior-people-struggling-underwater-hand-peeking-out-of-the-water-female-drowned-in-swimming-p_jpg.rf.9a4ec55c4a8a4582592a90003286596b.jpg', '/content/train/images/drowning20_mp4-8_jpg.rf.d59432af3a62a435653cdcbf9eb1844e.jpg', '/content/train/images/istockphoto-1041463788-612x612_jpg.rf.a383f315e2c9dcdc783d58dc7e9983dc.jpg', '/content/train/images/drowning1_mp4-21_jpg.rf.91e24ecc71c4f1c3ac20db52e79c98f1.jpg', '/content/train/images/drowning47_mp4-9_jpg.rf.6919ddab0db26e1b46a55fa9f06e1760.jpg', '/content/train/images/drowning1_mp4-1_jpg.rf.4df8b9af995778aa16cc0f2d41dbcb0f.jpg', '/content/train/images/drowning1_mp4-31_jpg.rf.1c4fce348f53d7e69a1a16cf4775d69a.jpg', '/content/train/images/drowning1_mp4-26_jpg.rf.dbd482aa590590f74075d74b6511c453.jpg', '/content/train/images/drowning1_mp4-21_jpg.rf.639399fe83fa94f86fcb8ae7849c68d5.jpg', '/content/train/images/drowning1_mp4-36_jpg.rf.245d0175e839335f20997b34b0d4a9b0.jpg', '/content/train/images/drowning1_mp4-33_jpg.rf.f64d2e706884ecfd742979dfe306c3ab.jpg', '/content/train/images/istockphoto-105764867-612x612_jpg.rf.aa384fc27b6316a954f2770ff6fd5eb1.jpg', '/content/train/images/drowning1_mp4-20_jpg.rf.859359633bcb2d9cd74e6ababa302c61.jpg', '/content/train/images/drowning1_mp4-0_jpg.rf.48ad82507ee9e688ca7b4be9c64955c0.jpg', '/content/train/images/drowning--1-_jpg.rf.0b704caf65472e55b416d04c7c8f8bd8.jpg', '/content/train/images/drowning1_mp4-22_jpg.rf.53acdd4cbe2fa7373033be578ba9c299.jpg', '/content/train/images/drowning1_mp4-13_jpg.rf.d888e4b86be819703bd2292973bdbc6a.jpg', '/content/train/images/drowning1_mp4-26_jpg.rf.6e55c1ebfa7721c0fe8e23f907c3149f.jpg', '/content/train/images/drowning2_jpg.rf.68daa54f419acbe2a517426d39a9d485.jpg', '/content/train/images/drowning1_mp4-25_jpg.rf.c1608e35b65e8430b84bd5dedb2cf752.jpg', '/content/train/images/203512036--1-_jpg.rf.6cbf9a0ca2446c7a53983a35b7d64484.jpg', '/content/train/images/Man-Being-Pulled-from-Water-before-Drowning-1024x683_jpg.rf.f3c8b292130e68fc847d100b564bb9b3.jpg', '/content/train/images/drowning1_mp4-23_jpg.rf.626ba5d17be42457df71e1882418089f.jpg', '/content/train/images/drowning1_mp4-27_jpg.rf.e03bb6b281cb2c80e62ce1e2cd8d2e64.jpg', '/content/train/images/drowning1_mp4-24_jpg.rf.f7e5542ccc8480d60a181e82c3245eee.jpg', '/content/train/images/drowning1_mp4-16_jpg.rf.b6e5445305d8aaf3734eaf435e58845a.jpg', '/content/train/images/drowning1_mp4-28_jpg.rf.22584144a8390f0dfbaa7f4a60345215.jpg', '/content/train/images/drowning1_mp4-20_jpg.rf.92f11b8ae88e90f771ef77279bd3f798.jpg', '/content/train/images/drowning47_mp4-8_jpg.rf.cd3d23a97d0665bd7730a0121bdbd92b.jpg', '/content/train/images/drowning1_mp4-22_jpg.rf.a44bda319182f5abac5ee64152f71faa.jpg']\n",
            "['/content/test/images/drowning-doesnt-look-like-drowning-web_jpg.rf.4a98098915d4101b06e5fff505694fa1.jpg', '/content/test/images/drowning47_mp4-15_jpg.rf.9055e7b1dea1767ba8ee351bccb8b207.jpg', '/content/test/images/drowning20_mp4-7_jpg.rf.355837518b07ff4b663a4b18e1dbcaa5.jpg', '/content/test/images/depositphotos_26366515-stock-photo-summer-danger_jpg.rf.1769968025965f906a55947375398239.jpg', '/content/test/images/drowning20_mp4-15_jpg.rf.d24177b2b495a814f8164e4accae20d7.jpg']\n"
          ]
        }
      ]
    },
    {
      "cell_type": "code",
      "source": [
        "with open('/content/train.txt', 'w') as f:\n",
        "    f.write('\\n'.join(img_list) + '\\n')\n",
        "\n",
        "with open('/content/test.txt', 'w') as f:\n",
        "    f.write('\\n'.join(val_img_list) + '\\n')"
      ],
      "metadata": {
        "id": "NxfFyFDHQ1yF"
      },
      "execution_count": 5,
      "outputs": []
    },
    {
      "cell_type": "code",
      "source": [
        "cd yolov5"
      ],
      "metadata": {
        "colab": {
          "base_uri": "https://localhost:8080/"
        },
        "id": "BmDffbTiSB6N",
        "outputId": "8f0532be-d785-46c3-902c-228b9f3efb5e"
      },
      "execution_count": 6,
      "outputs": [
        {
          "output_type": "stream",
          "name": "stdout",
          "text": [
            "/content/yolov5\n"
          ]
        }
      ]
    },
    {
      "cell_type": "code",
      "source": [
        "!python train.py --img 416 --batch 16 --epochs 50 --data /content/data.yaml --weights yolov5x.pt --name result_jetbot --cfg ./models/yolov5x.yaml"
      ],
      "metadata": {
        "id": "L8ctWKPCR5Mb",
        "colab": {
          "base_uri": "https://localhost:8080/"
        },
        "outputId": "5b36437f-9dd7-4145-a571-31f441917a7d"
      },
      "execution_count": 7,
      "outputs": [
        {
          "output_type": "stream",
          "name": "stdout",
          "text": [
            "\u001b[31m\u001b[1mrequirements:\u001b[0m YOLOv5 requirement \"gitpython\" not found, attempting AutoUpdate...\n",
            "Looking in indexes: https://pypi.org/simple, https://us-python.pkg.dev/colab-wheels/public/simple/\n",
            "Collecting gitpython\n",
            "  Downloading GitPython-3.1.29-py3-none-any.whl (182 kB)\n",
            "Collecting gitdb<5,>=4.0.1\n",
            "  Downloading gitdb-4.0.10-py3-none-any.whl (62 kB)\n",
            "Collecting smmap<6,>=3.0.1\n",
            "  Downloading smmap-5.0.0-py3-none-any.whl (24 kB)\n",
            "Installing collected packages: smmap, gitdb, gitpython\n",
            "Successfully installed gitdb-4.0.10 gitpython-3.1.29 smmap-5.0.0\n",
            "\n",
            "\u001b[31m\u001b[1mrequirements:\u001b[0m 1 package updated per ['gitpython']\n",
            "\u001b[31m\u001b[1mrequirements:\u001b[0m ⚠️ \u001b[1mRestart runtime or rerun command for updates to take effect\u001b[0m\n",
            "\n",
            "\u001b[34m\u001b[1mtrain: \u001b[0mweights=yolov5x.pt, cfg=./models/yolov5x.yaml, data=/content/data.yaml, hyp=data/hyps/hyp.scratch-low.yaml, epochs=50, batch_size=16, imgsz=416, rect=False, resume=False, nosave=False, noval=False, noautoanchor=False, noplots=False, evolve=None, bucket=, cache=None, image_weights=False, device=, multi_scale=False, single_cls=False, optimizer=SGD, sync_bn=False, workers=8, project=runs/train, name=result_jetbot, exist_ok=False, quad=False, cos_lr=False, label_smoothing=0.0, patience=100, freeze=[0], save_period=-1, seed=0, local_rank=-1, entity=None, upload_dataset=False, bbox_interval=-1, artifact_alias=latest\n",
            "\u001b[34m\u001b[1mgithub: \u001b[0mup to date with https://github.com/ultralytics/yolov5 ✅\n",
            "\u001b[31m\u001b[1mrequirements:\u001b[0m YOLOv5 requirements \"ipython\" \"thop>=0.1.1\" not found, attempting AutoUpdate...\n",
            "Looking in indexes: https://pypi.org/simple, https://us-python.pkg.dev/colab-wheels/public/simple/\n",
            "Requirement already satisfied: ipython in /usr/local/lib/python3.8/dist-packages (7.9.0)\n",
            "Collecting thop>=0.1.1\n",
            "  Downloading thop-0.1.1.post2209072238-py3-none-any.whl (15 kB)\n",
            "Requirement already satisfied: torch in /usr/local/lib/python3.8/dist-packages (from thop>=0.1.1) (1.13.0+cu116)\n",
            "Requirement already satisfied: prompt-toolkit<2.1.0,>=2.0.0 in /usr/local/lib/python3.8/dist-packages (from ipython) (2.0.10)\n",
            "Requirement already satisfied: pexpect in /usr/local/lib/python3.8/dist-packages (from ipython) (4.8.0)\n",
            "Requirement already satisfied: setuptools>=18.5 in /usr/local/lib/python3.8/dist-packages (from ipython) (57.4.0)\n",
            "Requirement already satisfied: traitlets>=4.2 in /usr/local/lib/python3.8/dist-packages (from ipython) (5.6.0)\n",
            "Collecting jedi>=0.10\n",
            "  Downloading jedi-0.18.2-py2.py3-none-any.whl (1.6 MB)\n",
            "Requirement already satisfied: pygments in /usr/local/lib/python3.8/dist-packages (from ipython) (2.6.1)\n",
            "Requirement already satisfied: backcall in /usr/local/lib/python3.8/dist-packages (from ipython) (0.2.0)\n",
            "Requirement already satisfied: decorator in /usr/local/lib/python3.8/dist-packages (from ipython) (4.4.2)\n",
            "Requirement already satisfied: pickleshare in /usr/local/lib/python3.8/dist-packages (from ipython) (0.7.5)\n",
            "Requirement already satisfied: parso<0.9.0,>=0.8.0 in /usr/local/lib/python3.8/dist-packages (from jedi>=0.10->ipython) (0.8.3)\n",
            "Requirement already satisfied: six>=1.9.0 in /usr/local/lib/python3.8/dist-packages (from prompt-toolkit<2.1.0,>=2.0.0->ipython) (1.15.0)\n",
            "Requirement already satisfied: wcwidth in /usr/local/lib/python3.8/dist-packages (from prompt-toolkit<2.1.0,>=2.0.0->ipython) (0.2.5)\n",
            "Requirement already satisfied: ptyprocess>=0.5 in /usr/local/lib/python3.8/dist-packages (from pexpect->ipython) (0.7.0)\n",
            "Requirement already satisfied: typing-extensions in /usr/local/lib/python3.8/dist-packages (from torch->thop>=0.1.1) (4.4.0)\n",
            "Installing collected packages: jedi, thop\n",
            "Successfully installed jedi-0.18.2 thop-0.1.1.post2209072238\n",
            "\n",
            "\u001b[31m\u001b[1mrequirements:\u001b[0m 2 packages updated per /content/yolov5/requirements.txt\n",
            "\u001b[31m\u001b[1mrequirements:\u001b[0m ⚠️ \u001b[1mRestart runtime or rerun command for updates to take effect\u001b[0m\n",
            "\n",
            "YOLOv5 🚀 v7.0-30-g342fe05 Python-3.8.16 torch-1.13.0+cu116 CUDA:0 (Tesla T4, 15110MiB)\n",
            "\n",
            "\u001b[34m\u001b[1mhyperparameters: \u001b[0mlr0=0.01, lrf=0.01, momentum=0.937, weight_decay=0.0005, warmup_epochs=3.0, warmup_momentum=0.8, warmup_bias_lr=0.1, box=0.05, cls=0.5, cls_pw=1.0, obj=1.0, obj_pw=1.0, iou_t=0.2, anchor_t=4.0, fl_gamma=0.0, hsv_h=0.015, hsv_s=0.7, hsv_v=0.4, degrees=0.0, translate=0.1, scale=0.5, shear=0.0, perspective=0.0, flipud=0.0, fliplr=0.5, mosaic=1.0, mixup=0.0, copy_paste=0.0\n",
            "\u001b[34m\u001b[1mClearML: \u001b[0mrun 'pip install clearml' to automatically track, visualize and remotely train YOLOv5 🚀 in ClearML\n",
            "\u001b[34m\u001b[1mComet: \u001b[0mrun 'pip install comet_ml' to automatically track and visualize YOLOv5 🚀 runs in Comet\n",
            "\u001b[34m\u001b[1mTensorBoard: \u001b[0mStart with 'tensorboard --logdir runs/train', view at http://localhost:6006/\n",
            "Downloading https://ultralytics.com/assets/Arial.ttf to /root/.config/Ultralytics/Arial.ttf...\n",
            "100% 755k/755k [00:00<00:00, 1.57MB/s]\n",
            "Downloading https://github.com/ultralytics/yolov5/releases/download/v7.0/yolov5x.pt to yolov5x.pt...\n",
            " 92% 152M/166M [00:05<00:00, 23.8MB/s]ERROR: Downloaded file 'yolov5x.pt' does not exist or size is < min_bytes=100000.0\n",
            "yolov5x.pt missing, try downloading from https://github.com/ultralytics/yolov5/releases/v7.0 or https://drive.google.com/drive/folders/1EFQTEUeXWSFww0luse2jB9M1QNZQGwNl\n",
            "\n",
            "Traceback (most recent call last):\n",
            "  File \"/usr/local/lib/python3.8/dist-packages/torch/hub.py\", line 619, in download_url_to_file\n",
            "    buffer = u.read(8192)\n",
            "  File \"/usr/lib/python3.8/http/client.py\", line 459, in read\n",
            "    n = self.readinto(b)\n",
            "  File \"/usr/lib/python3.8/http/client.py\", line 503, in readinto\n",
            "    n = self.fp.readinto(b)\n",
            "  File \"/usr/lib/python3.8/socket.py\", line 669, in readinto\n",
            "    return self._sock.recv_into(b)\n",
            "  File \"/usr/lib/python3.8/ssl.py\", line 1241, in recv_into\n",
            "    return self.read(nbytes, buffer)\n",
            "  File \"/usr/lib/python3.8/ssl.py\", line 1099, in read\n",
            "    return self._sslobj.read(len, buffer)\n",
            "KeyboardInterrupt\n",
            "\n",
            "During handling of the above exception, another exception occurred:\n",
            "\n",
            "Traceback (most recent call last):\n",
            "  File \"train.py\", line 633, in <module>\n",
            "    main(opt)\n",
            "  File \"train.py\", line 527, in main\n",
            "    train(opt.hyp, opt, device, callbacks)\n",
            "  File \"train.py\", line 122, in train\n",
            "    weights = attempt_download(weights)  # download if not found locally\n",
            "  File \"/content/yolov5/utils/downloads.py\", line 102, in attempt_download\n",
            "    safe_download(\n",
            "  File \"/content/yolov5/utils/downloads.py\", line 47, in safe_download\n",
            "    torch.hub.download_url_to_file(url, str(file), progress=LOGGER.level <= logging.INFO)\n",
            "  File \"/usr/local/lib/python3.8/dist-packages/torch/hub.py\", line 625, in download_url_to_file\n",
            "    pbar.update(len(buffer))\n",
            "  File \"/usr/local/lib/python3.8/dist-packages/tqdm/std.py\", line 1154, in __exit__\n",
            "    self.close()\n",
            "  File \"/usr/local/lib/python3.8/dist-packages/tqdm/std.py\", line 1289, in close\n",
            "    self._decr_instances(self)\n",
            "KeyboardInterrupt\n",
            "^C\n"
          ]
        }
      ]
    },
    {
      "cell_type": "code",
      "source": [
        "%load_ext tensorboard\n",
        "%tensorboard --logdir /content/yolov5/runs"
      ],
      "metadata": {
        "id": "hcJFp96drU7V",
        "colab": {
          "base_uri": "https://localhost:8080/",
          "height": 360
        },
        "outputId": "3901a991-d427-436b-f69b-2409d247a14e"
      },
      "execution_count": 8,
      "outputs": [
        {
          "output_type": "display_data",
          "data": {
            "text/plain": [
              "Launching TensorBoard..."
            ]
          },
          "metadata": {}
        },
        {
          "output_type": "error",
          "ename": "KeyboardInterrupt",
          "evalue": "ignored",
          "traceback": [
            "\u001b[0;31m---------------------------------------------------------------------------\u001b[0m",
            "\u001b[0;31mKeyboardInterrupt\u001b[0m                         Traceback (most recent call last)",
            "\u001b[0;32m<ipython-input-8-46d1dcb30f62>\u001b[0m in \u001b[0;36m<module>\u001b[0;34m\u001b[0m\n\u001b[1;32m      1\u001b[0m \u001b[0mget_ipython\u001b[0m\u001b[0;34m(\u001b[0m\u001b[0;34m)\u001b[0m\u001b[0;34m.\u001b[0m\u001b[0mrun_line_magic\u001b[0m\u001b[0;34m(\u001b[0m\u001b[0;34m'load_ext'\u001b[0m\u001b[0;34m,\u001b[0m \u001b[0;34m'tensorboard'\u001b[0m\u001b[0;34m)\u001b[0m\u001b[0;34m\u001b[0m\u001b[0;34m\u001b[0m\u001b[0m\n\u001b[0;32m----> 2\u001b[0;31m \u001b[0mget_ipython\u001b[0m\u001b[0;34m(\u001b[0m\u001b[0;34m)\u001b[0m\u001b[0;34m.\u001b[0m\u001b[0mrun_line_magic\u001b[0m\u001b[0;34m(\u001b[0m\u001b[0;34m'tensorboard'\u001b[0m\u001b[0;34m,\u001b[0m \u001b[0;34m'--logdir /content/yolov5/runs'\u001b[0m\u001b[0;34m)\u001b[0m\u001b[0;34m\u001b[0m\u001b[0;34m\u001b[0m\u001b[0m\n\u001b[0m",
            "\u001b[0;32m/usr/local/lib/python3.8/dist-packages/IPython/core/interactiveshell.py\u001b[0m in \u001b[0;36mrun_line_magic\u001b[0;34m(self, magic_name, line, _stack_depth)\u001b[0m\n\u001b[1;32m   2312\u001b[0m                 \u001b[0mkwargs\u001b[0m\u001b[0;34m[\u001b[0m\u001b[0;34m'local_ns'\u001b[0m\u001b[0;34m]\u001b[0m \u001b[0;34m=\u001b[0m \u001b[0msys\u001b[0m\u001b[0;34m.\u001b[0m\u001b[0m_getframe\u001b[0m\u001b[0;34m(\u001b[0m\u001b[0mstack_depth\u001b[0m\u001b[0;34m)\u001b[0m\u001b[0;34m.\u001b[0m\u001b[0mf_locals\u001b[0m\u001b[0;34m\u001b[0m\u001b[0;34m\u001b[0m\u001b[0m\n\u001b[1;32m   2313\u001b[0m             \u001b[0;32mwith\u001b[0m \u001b[0mself\u001b[0m\u001b[0;34m.\u001b[0m\u001b[0mbuiltin_trap\u001b[0m\u001b[0;34m:\u001b[0m\u001b[0;34m\u001b[0m\u001b[0;34m\u001b[0m\u001b[0m\n\u001b[0;32m-> 2314\u001b[0;31m                 \u001b[0mresult\u001b[0m \u001b[0;34m=\u001b[0m \u001b[0mfn\u001b[0m\u001b[0;34m(\u001b[0m\u001b[0;34m*\u001b[0m\u001b[0margs\u001b[0m\u001b[0;34m,\u001b[0m \u001b[0;34m**\u001b[0m\u001b[0mkwargs\u001b[0m\u001b[0;34m)\u001b[0m\u001b[0;34m\u001b[0m\u001b[0;34m\u001b[0m\u001b[0m\n\u001b[0m\u001b[1;32m   2315\u001b[0m             \u001b[0;32mreturn\u001b[0m \u001b[0mresult\u001b[0m\u001b[0;34m\u001b[0m\u001b[0;34m\u001b[0m\u001b[0m\n\u001b[1;32m   2316\u001b[0m \u001b[0;34m\u001b[0m\u001b[0m\n",
            "\u001b[0;32m/usr/local/lib/python3.8/dist-packages/tensorboard/notebook.py\u001b[0m in \u001b[0;36m_start_magic\u001b[0;34m(line)\u001b[0m\n\u001b[1;32m    115\u001b[0m \u001b[0;32mdef\u001b[0m \u001b[0m_start_magic\u001b[0m\u001b[0;34m(\u001b[0m\u001b[0mline\u001b[0m\u001b[0;34m)\u001b[0m\u001b[0;34m:\u001b[0m\u001b[0;34m\u001b[0m\u001b[0;34m\u001b[0m\u001b[0m\n\u001b[1;32m    116\u001b[0m     \u001b[0;34m\"\"\"Implementation of the `%tensorboard` line magic.\"\"\"\u001b[0m\u001b[0;34m\u001b[0m\u001b[0;34m\u001b[0m\u001b[0m\n\u001b[0;32m--> 117\u001b[0;31m     \u001b[0;32mreturn\u001b[0m \u001b[0mstart\u001b[0m\u001b[0;34m(\u001b[0m\u001b[0mline\u001b[0m\u001b[0;34m)\u001b[0m\u001b[0;34m\u001b[0m\u001b[0;34m\u001b[0m\u001b[0m\n\u001b[0m\u001b[1;32m    118\u001b[0m \u001b[0;34m\u001b[0m\u001b[0m\n\u001b[1;32m    119\u001b[0m \u001b[0;34m\u001b[0m\u001b[0m\n",
            "\u001b[0;32m/usr/local/lib/python3.8/dist-packages/tensorboard/notebook.py\u001b[0m in \u001b[0;36mstart\u001b[0;34m(args_string)\u001b[0m\n\u001b[1;32m    150\u001b[0m \u001b[0;34m\u001b[0m\u001b[0m\n\u001b[1;32m    151\u001b[0m     \u001b[0mparsed_args\u001b[0m \u001b[0;34m=\u001b[0m \u001b[0mshlex\u001b[0m\u001b[0;34m.\u001b[0m\u001b[0msplit\u001b[0m\u001b[0;34m(\u001b[0m\u001b[0margs_string\u001b[0m\u001b[0;34m,\u001b[0m \u001b[0mcomments\u001b[0m\u001b[0;34m=\u001b[0m\u001b[0;32mTrue\u001b[0m\u001b[0;34m,\u001b[0m \u001b[0mposix\u001b[0m\u001b[0;34m=\u001b[0m\u001b[0;32mTrue\u001b[0m\u001b[0;34m)\u001b[0m\u001b[0;34m\u001b[0m\u001b[0;34m\u001b[0m\u001b[0m\n\u001b[0;32m--> 152\u001b[0;31m     \u001b[0mstart_result\u001b[0m \u001b[0;34m=\u001b[0m \u001b[0mmanager\u001b[0m\u001b[0;34m.\u001b[0m\u001b[0mstart\u001b[0m\u001b[0;34m(\u001b[0m\u001b[0mparsed_args\u001b[0m\u001b[0;34m)\u001b[0m\u001b[0;34m\u001b[0m\u001b[0;34m\u001b[0m\u001b[0m\n\u001b[0m\u001b[1;32m    153\u001b[0m \u001b[0;34m\u001b[0m\u001b[0m\n\u001b[1;32m    154\u001b[0m     \u001b[0;32mif\u001b[0m \u001b[0misinstance\u001b[0m\u001b[0;34m(\u001b[0m\u001b[0mstart_result\u001b[0m\u001b[0;34m,\u001b[0m \u001b[0mmanager\u001b[0m\u001b[0;34m.\u001b[0m\u001b[0mStartLaunched\u001b[0m\u001b[0;34m)\u001b[0m\u001b[0;34m:\u001b[0m\u001b[0;34m\u001b[0m\u001b[0;34m\u001b[0m\u001b[0m\n",
            "\u001b[0;32m/usr/local/lib/python3.8/dist-packages/tensorboard/manager.py\u001b[0m in \u001b[0;36mstart\u001b[0;34m(arguments, timeout)\u001b[0m\n\u001b[1;32m    426\u001b[0m     \u001b[0mend_time_seconds\u001b[0m \u001b[0;34m=\u001b[0m \u001b[0mstart_time_seconds\u001b[0m \u001b[0;34m+\u001b[0m \u001b[0mtimeout\u001b[0m\u001b[0;34m.\u001b[0m\u001b[0mtotal_seconds\u001b[0m\u001b[0;34m(\u001b[0m\u001b[0;34m)\u001b[0m\u001b[0;34m\u001b[0m\u001b[0;34m\u001b[0m\u001b[0m\n\u001b[1;32m    427\u001b[0m     \u001b[0;32mwhile\u001b[0m \u001b[0mtime\u001b[0m\u001b[0;34m.\u001b[0m\u001b[0mtime\u001b[0m\u001b[0;34m(\u001b[0m\u001b[0;34m)\u001b[0m \u001b[0;34m<\u001b[0m \u001b[0mend_time_seconds\u001b[0m\u001b[0;34m:\u001b[0m\u001b[0;34m\u001b[0m\u001b[0;34m\u001b[0m\u001b[0m\n\u001b[0;32m--> 428\u001b[0;31m         \u001b[0mtime\u001b[0m\u001b[0;34m.\u001b[0m\u001b[0msleep\u001b[0m\u001b[0;34m(\u001b[0m\u001b[0mpoll_interval_seconds\u001b[0m\u001b[0;34m)\u001b[0m\u001b[0;34m\u001b[0m\u001b[0;34m\u001b[0m\u001b[0m\n\u001b[0m\u001b[1;32m    429\u001b[0m         \u001b[0msubprocess_result\u001b[0m \u001b[0;34m=\u001b[0m \u001b[0mp\u001b[0m\u001b[0;34m.\u001b[0m\u001b[0mpoll\u001b[0m\u001b[0;34m(\u001b[0m\u001b[0;34m)\u001b[0m\u001b[0;34m\u001b[0m\u001b[0;34m\u001b[0m\u001b[0m\n\u001b[1;32m    430\u001b[0m         \u001b[0;32mif\u001b[0m \u001b[0msubprocess_result\u001b[0m \u001b[0;32mis\u001b[0m \u001b[0;32mnot\u001b[0m \u001b[0;32mNone\u001b[0m\u001b[0;34m:\u001b[0m\u001b[0;34m\u001b[0m\u001b[0;34m\u001b[0m\u001b[0m\n",
            "\u001b[0;31mKeyboardInterrupt\u001b[0m: "
          ]
        }
      ]
    },
    {
      "cell_type": "code",
      "source": [],
      "metadata": {
        "id": "bBg8h4YtsMlM"
      },
      "execution_count": null,
      "outputs": []
    }
  ]
}